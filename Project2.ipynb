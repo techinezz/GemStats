{
  "nbformat": 4,
  "nbformat_minor": 0,
  "metadata": {
    "colab": {
      "provenance": [],
      "include_colab_link": true
    },
    "kernelspec": {
      "name": "python3",
      "display_name": "Python 3"
    },
    "language_info": {
      "name": "python"
    }
  },
  "cells": [
    {
      "cell_type": "markdown",
      "metadata": {
        "id": "view-in-github",
        "colab_type": "text"
      },
      "source": [
        "<a href=\"https://colab.research.google.com/github/techinezz/GemStats/blob/main/Project2.ipynb\" target=\"_parent\"><img src=\"https://colab.research.google.com/assets/colab-badge.svg\" alt=\"Open In Colab\"/></a>"
      ]
    },
    {
      "cell_type": "markdown",
      "source": [
        "* Name: &lt;**fill in your name**&gt;\n",
        "\n",
        "* Student ID: &lt;**fill in your student ID**&gt;\n",
        "\n",
        "\n",
        "---\n",
        "\n"
      ],
      "metadata": {
        "id": "jp7Q_lhvA92B"
      }
    },
    {
      "cell_type": "markdown",
      "source": [
        "**Instructions**\n",
        "\n",
        "* Create a copy of this notebook (this notebook itself is set to be immutable).\n",
        "\n",
        "\n",
        "* Complete all questions below by implementing the corresponding function or class. Do not modify any existing code.\n",
        "\n",
        "* Share your notebook and paste the link to Blackboard.\n",
        "---\n",
        "\n"
      ],
      "metadata": {
        "id": "eRc6GY-2pc8M"
      }
    },
    {
      "cell_type": "markdown",
      "source": [
        "# 1. Cyclic Singly Linked List\n",
        "\n",
        "## Overview\n",
        "\n",
        "Implement a cyclic singly linked list in Python, which is a data structure where each element is a node that contains data and a pointer to the next node in the sequence. This list is called \"cyclic\" because the last node points back to the first node, creating a circle of nodes. This implementation will require two main components: the CyclicList class, which manages the list, and the SingleNode class, which represents each node in the list.\n",
        "\n",
        "## Description\n",
        "\n",
        "In this project, you will implement two classes:\n",
        "\n",
        "- `Cyclic_list`: A cyclic linked list class,\n",
        "- `Single_node`: A class for singly linked nodes.\n",
        "\n",
        "A cyclic linked list is a data structure where each element is a node that contains data and a reference to the next node in the sequence, with the last node linking back to the first node, forming a circle.\n",
        "\n",
        "`SingleNode` Class\n",
        "\n",
        "- Attributes:\n",
        "  - `data`: Stores the data of the node.\n",
        "  - `next`: Points to the next node in the list.\n",
        "- Methods:\n",
        "  - Constructor: Initializes a node with data and optionally the next node.\n",
        "\n",
        "`CyclicList` Class\n",
        "- Attributes:\n",
        "  - `list_head`: Points to the first node in the list.\n",
        "  - `list_tail`: Points to the last node in the list.\n",
        "  - `list_size`: Stores the number of nodes in the list.\n",
        "- Methods:\n",
        "  - Constructor: Initializes a new empty list or creates a list from another CyclicList.\n",
        "  - `size()`: Returns the number of nodes in the list.\n",
        "  - `empty()`: Checks if the list is empty.\n",
        "  - `front()`: Returns the data of the first node.\n",
        "  - `back()`: Returns the data of the last node.\n",
        "  - `head()`: Returns the first node.\n",
        "  - `tail()`: Returns the last node.\n",
        "  - `count(obj)`: Counts the number of nodes containing the specified data.\n",
        "  - `push_front(obj)`: Inserts a new node at the beginning of the list.\n",
        "  - `push_back(obj)`: Inserts a new node at the end of the list.\n",
        "  - `pop_front()`: Removes and returns the first node's data.\n",
        "  - `erase(obj)`: Removes nodes containing the specified data.\n",
        "\n",
        "\n"
      ],
      "metadata": {
        "id": "S2zHTHRCJDNq"
      }
    },
    {
      "cell_type": "code",
      "source": [
        "#TODO: implement Cyclic_list and Single_node"
      ],
      "metadata": {
        "id": "e7dfHIT88XFl"
      },
      "execution_count": null,
      "outputs": []
    },
    {
      "cell_type": "code",
      "source": [
        "import unittest\n",
        "\n",
        "class TestCyclicList(unittest.TestCase):\n",
        "    def test_empty_list(self):\n",
        "        cl = Cyclic_list()\n",
        "        self.assertTrue(cl.empty())\n",
        "\n",
        "    def test_push_and_size(self):\n",
        "        cl = Cyclic_list()\n",
        "        cl.push_back(1)\n",
        "        cl.push_front(0)\n",
        "        self.assertEqual(cl.size(), 2)\n",
        "\n",
        "    def test_front_back(self):\n",
        "        cl = Cyclic_list()\n",
        "        cl.push_back(1)\n",
        "        cl.push_front(0)\n",
        "        self.assertEqual(cl.front(), 0)\n",
        "        self.assertEqual(cl.back(), 1)\n",
        "\n",
        "    def test_pop_front(self):\n",
        "        cl = Cyclic_list()\n",
        "        cl.push_back(1)\n",
        "        cl.push_back(2)\n",
        "        data = cl.pop_front()\n",
        "        self.assertEqual(data, 1)\n",
        "        self.assertEqual(cl.size(), 1)\n",
        "        self.assertEqual(cl.front(), 2)\n",
        "\n",
        "    def test_erase(self):\n",
        "        cl = Cyclic_list()\n",
        "        cl.push_back(1)\n",
        "        cl.push_back(2)\n",
        "        cl.push_back(1)\n",
        "        removed = cl.erase(1)\n",
        "        self.assertEqual(removed, 2)\n",
        "        self.assertEqual(cl.size(), 1)\n",
        "        self.assertEqual(cl.front(), 2)\n",
        "\n",
        "# Create a test suite\n",
        "suite = unittest.TestLoader().loadTestsFromTestCase(TestCyclicList)\n",
        "\n",
        "# Run the test suite\n",
        "unittest.TextTestRunner().run(suite)"
      ],
      "metadata": {
        "id": "luDMa7DC4UhO"
      },
      "execution_count": null,
      "outputs": []
    },
    {
      "cell_type": "markdown",
      "source": [
        "# 2. Dynamic Set\n",
        "\n",
        "## Description\n",
        "Implement a set based on a hash table that utilizes linear probing for collision resolution and dynamically adjusts its size (either doubling or halving) depending on the load factor.\n",
        "\n",
        "## Member Variables\n",
        "The class includes several key members:\n",
        "\n",
        "- `array`: A list used to store the elements of the set.\n",
        "- `initial_capacity`: An integer representing the initial size of the array.\n",
        "- `current_capacity`: An integer representing the current size of the array.\n",
        "- `count`: An integer counter to keep track of the number of elements stored.\n",
        "\n",
        "## Hash Function\n",
        "The hash value of any positive integer will be:\n",
        "- multply the number by 53267,\n",
        "- if this result is negative, add 231,\n",
        "- ignore the five least-significant bits and use an appropriate modulo to get the number.\n",
        "\n",
        "## Member Functions\n",
        "- Constructor: Initializes the set with an array size of 2^n, setting the initial and current capacities accordingly. It is assumed that n >= 2, ensuring at least four bins.\n",
        "- `size()`: Returns the count of elements in the set.\n",
        "- `empty()`: Checks if the set is empty.\n",
        "- `capacity()`: Returns the current capacity of the set.\n",
        "- `member(value)`: Determines if a value is present in the set.\n",
        "- `load_factor()`: Calculates the current load factor of the hash table.\n",
        "- `insert(value)`: Inserts a new value into the set, resizing if necessary.\n",
        "- `remove(value)`: Removes a value from the set, resizing if necessary.\n",
        "- `clear()`: Clears the set, resetting it to its initial capacity.\n",
        "\n",
        "## Implementation Hints\n",
        "\n",
        "- Start with a simple hash function, like modulo based on the array size, and then implement the described hash function.\n",
        "- First, make the hash table work without dynamic resizing.\n",
        "- Thoroughly test the hash table with various initial sizes.\n",
        "- Use the defined properties to mark empty bins appropriately.\n",
        "- For dynamic resizing, store the current table's content, reinitialize the table to the desired size, and reinsert all valid entries."
      ],
      "metadata": {
        "id": "Ta6PFLDHaRt4"
      }
    },
    {
      "cell_type": "code",
      "source": [
        "#TODO: implement DynamicSet"
      ],
      "metadata": {
        "id": "XL0QLee7ZPi_"
      },
      "execution_count": null,
      "outputs": []
    },
    {
      "cell_type": "code",
      "source": [
        "import unittest\n",
        "\n",
        "class TestDynamicSet(unittest.TestCase):\n",
        "    def setUp(self):\n",
        "        self.hash_table = DynamicSet(n=3)\n",
        "\n",
        "    def test_insert_and_member(self):\n",
        "        self.hash_table.insert(1)\n",
        "        self.hash_table.insert(53)\n",
        "        self.assertTrue(self.hash_table.member(1))\n",
        "        self.assertTrue(self.hash_table.member(53))\n",
        "        self.assertFalse(self.hash_table.member(2))\n",
        "\n",
        "    def test_remove(self):\n",
        "        self.hash_table.insert(1)\n",
        "        self.hash_table.remove(1)\n",
        "        self.assertFalse(self.hash_table.member(1))\n",
        "\n",
        "    def test_size(self):\n",
        "        self.assertEqual(self.hash_table.size(), 0)\n",
        "        self.hash_table.insert(1)\n",
        "        self.assertEqual(self.hash_table.size(), 1)\n",
        "\n",
        "    def test_empty(self):\n",
        "        self.assertTrue(self.hash_table.empty())\n",
        "        self.hash_table.insert(100)\n",
        "        self.assertFalse(self.hash_table.empty())\n",
        "\n",
        "    def test_capacity_and_resizing(self):\n",
        "        initial_capacity = self.hash_table.capacity()\n",
        "        # Trigger resize by exceeding load factor\n",
        "        for i in range(1, initial_capacity + 1):  # Fill more than 75%\n",
        "            self.hash_table.insert(i)\n",
        "        self.assertGreater(self.hash_table.capacity(), initial_capacity)\n",
        "        # Trigger downsize\n",
        "        for i in range(1, initial_capacity + 1):\n",
        "            self.hash_table.remove(i)\n",
        "        self.assertEqual(self.hash_table.capacity(), initial_capacity)\n",
        "\n",
        "    def test_clear(self):\n",
        "        for i in range(10):\n",
        "            self.hash_table.insert(i)\n",
        "        self.hash_table.clear()\n",
        "        self.assertTrue(self.hash_table.empty())\n",
        "        self.assertEqual(self.hash_table.size(), 0)\n",
        "\n",
        "# Create a test suite\n",
        "suite = unittest.TestLoader().loadTestsFromTestCase(TestDynamicSet)\n",
        "\n",
        "# Run the test suite\n",
        "unittest.TextTestRunner().run(suite)"
      ],
      "metadata": {
        "id": "jOGurpBxZSbf"
      },
      "execution_count": null,
      "outputs": []
    }
  ]
}